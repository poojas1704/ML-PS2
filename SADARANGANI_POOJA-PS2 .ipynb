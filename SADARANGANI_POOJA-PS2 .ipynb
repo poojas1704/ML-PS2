{
 "cells": [
  {
   "cell_type": "markdown",
   "id": "6074d1d4",
   "metadata": {},
   "source": [
    "Part 1: Trying Page Rank Algorithm on toy matrix"
   ]
  },
  {
   "cell_type": "code",
   "execution_count": 91,
   "id": "abd731ed",
   "metadata": {},
   "outputs": [],
   "source": [
    "import numpy as np"
   ]
  },
  {
   "cell_type": "code",
   "execution_count": 92,
   "id": "c8cdfb67",
   "metadata": {},
   "outputs": [],
   "source": [
    "from numpy.linalg import norm"
   ]
  },
  {
   "cell_type": "code",
   "execution_count": 93,
   "id": "6591ba26",
   "metadata": {},
   "outputs": [],
   "source": [
    "import pandas as pd"
   ]
  },
  {
   "cell_type": "markdown",
   "id": "4ded20a5",
   "metadata": {},
   "source": [
    "1.2 Creating an Adjacency Matrix (Z) # Need to generalize this "
   ]
  },
  {
   "cell_type": "code",
   "execution_count": 94,
   "id": "665985f8",
   "metadata": {},
   "outputs": [
    {
     "name": "stdout",
     "output_type": "stream",
     "text": [
      "[[1 0 2 0 4 3]\n",
      " [3 0 1 1 0 0]\n",
      " [2 0 4 0 1 0]\n",
      " [0 0 1 0 0 1]\n",
      " [8 0 3 0 5 2]\n",
      " [0 0 0 0 0 0]]\n",
      "(6, 6)\n"
     ]
    }
   ],
   "source": [
    "z = np.array([[1,0,2,0,4,3], [3,0,1,1,0,0], [2,0,4,0,1,0], [0,0,1,0,0,1], [8,0,3,0,5,2], [0,0,0,0,0,0]])\n",
    "print(z)\n",
    "print(z.shape)"
   ]
  },
  {
   "cell_type": "markdown",
   "id": "afc997cf",
   "metadata": {},
   "source": [
    "1.3 Modifying the Adjacency Matrix"
   ]
  },
  {
   "cell_type": "markdown",
   "id": "a5063519",
   "metadata": {},
   "source": [
    "1. Set diagonals to zero "
   ]
  },
  {
   "cell_type": "code",
   "execution_count": 95,
   "id": "0e9ed931",
   "metadata": {},
   "outputs": [
    {
     "name": "stdout",
     "output_type": "stream",
     "text": [
      "[[0 0 2 0 4 3]\n",
      " [3 0 1 1 0 0]\n",
      " [2 0 0 0 1 0]\n",
      " [0 0 1 0 0 1]\n",
      " [8 0 3 0 0 2]\n",
      " [0 0 0 0 0 0]]\n",
      "(6, 6)\n"
     ]
    }
   ],
   "source": [
    "np.fill_diagonal(z, 0)\n",
    "\n",
    "# for i in range(0,6):\n",
    "#     for j in range(0,6):\n",
    "#         if i==j:\n",
    "#             z[i][j]=0\n",
    "print(z)\n",
    "print(z.shape)"
   ]
  },
  {
   "cell_type": "markdown",
   "id": "0441c9d7",
   "metadata": {},
   "source": [
    "2. Normalize the columns - gives matrix H"
   ]
  },
  {
   "cell_type": "code",
   "execution_count": 96,
   "id": "b884e38a",
   "metadata": {},
   "outputs": [
    {
     "name": "stdout",
     "output_type": "stream",
     "text": [
      "[13, 0, 7, 1, 5, 6]\n"
     ]
    }
   ],
   "source": [
    "# Creating an array for storing the sum of each column \n",
    "hsum = [0] * 6\n",
    "for i in range(0,6):\n",
    "    for j in range(0,6):\n",
    "        hsum[j] = hsum[j] + z[i][j]\n",
    "print(hsum)"
   ]
  },
  {
   "cell_type": "code",
   "execution_count": 97,
   "id": "124406c8",
   "metadata": {},
   "outputs": [
    {
     "name": "stdout",
     "output_type": "stream",
     "text": [
      "[[0.         0.         0.28571429 0.         0.8        0.5       ]\n",
      " [0.23076923 0.         0.14285714 1.         0.         0.        ]\n",
      " [0.15384615 0.         0.         0.         0.2        0.        ]\n",
      " [0.         0.         0.14285714 0.         0.         0.16666667]\n",
      " [0.61538462 0.         0.42857143 0.         0.         0.33333333]\n",
      " [0.         0.         0.         0.         0.         0.        ]]\n",
      "(6, 6)\n"
     ]
    }
   ],
   "source": [
    "# Normalizing each column\n",
    "h = np.zeros((6,6))\n",
    "for i in range(6):\n",
    "    for j in range(6):\n",
    "        if hsum[i] != 0:\n",
    "            h[j][i] = z[j][i]/hsum[i]\n",
    "print(h)\n",
    "print(h.shape)"
   ]
  },
  {
   "cell_type": "markdown",
   "id": "b4224559",
   "metadata": {},
   "source": [
    "1.4 Identifying the Dangling Nodes"
   ]
  },
  {
   "cell_type": "code",
   "execution_count": 98,
   "id": "2f73abed",
   "metadata": {},
   "outputs": [
    {
     "name": "stdout",
     "output_type": "stream",
     "text": [
      "[0 1 0 0 0 0]\n",
      "(6,)\n"
     ]
    }
   ],
   "source": [
    "# If all elements in a column are zero, then corresponding value in dangling node will be 1 \n",
    "d = np.array([0,0,0,0,0,0])\n",
    "for i in range(6):\n",
    "    count = 0\n",
    "    for j in range(6):\n",
    "        if h[j][i]==0:\n",
    "            count+=1\n",
    "    if count == 6:\n",
    "        d[i] = 1\n",
    "print(d)\n",
    "print(d.shape)\n",
    "        "
   ]
  },
  {
   "cell_type": "markdown",
   "id": "f658560f",
   "metadata": {},
   "source": [
    "1.5 Calculating the Influence Vector"
   ]
  },
  {
   "cell_type": "code",
   "execution_count": 99,
   "id": "e277c203",
   "metadata": {},
   "outputs": [
    {
     "name": "stdout",
     "output_type": "stream",
     "text": [
      "[[0.21428571]\n",
      " [0.14285714]\n",
      " [0.35714286]\n",
      " [0.07142857]\n",
      " [0.14285714]\n",
      " [0.07142857]]\n",
      "(6, 1)\n"
     ]
    }
   ],
   "source": [
    "# Creating Article Vector\n",
    "a = np.array([[3,2,5,1,2,1]])\n",
    "a=a.T\n",
    "\n",
    "# Normalizing Article Vector\n",
    "asum = 0\n",
    "for i in range(6):\n",
    "    asum = asum + a[i][0]\n",
    "a = a/asum\n",
    "print(a)\n",
    "print(a.shape)"
   ]
  },
  {
   "cell_type": "code",
   "execution_count": 100,
   "id": "0bdccd85",
   "metadata": {},
   "outputs": [
    {
     "name": "stdout",
     "output_type": "stream",
     "text": [
      "[[0.16666667]\n",
      " [0.16666667]\n",
      " [0.16666667]\n",
      " [0.16666667]\n",
      " [0.16666667]\n",
      " [0.16666667]]\n",
      "(6, 1)\n"
     ]
    }
   ],
   "source": [
    "# Creating Initial Vector\n",
    "initial_vector = np.array([[1/6],[1/6],[1/6],[1/6],[1/6],[1/6]])\n",
    "print(initial_vector)\n",
    "print(initial_vector.shape)"
   ]
  },
  {
   "cell_type": "code",
   "execution_count": 101,
   "id": "7f7f21a8",
   "metadata": {},
   "outputs": [],
   "source": [
    "# Calculating influence vector: Method 1\n",
    "\n",
    "# Calculating P\n",
    "\n",
    "# Creating H_edited\n",
    "\n",
    "\n",
    "\n",
    "# h_edited = h\n",
    "# for i in range(0,6):\n",
    "#     count = 0\n",
    "#     for j in range(0,6):\n",
    "#         if h[j][i]==0:\n",
    "#             count+=1\n",
    "#     if count == 6:\n",
    "#         for j in range(6):\n",
    "#             h_edited[j][i] = a[j]\n",
    "# #print(h_edited)\n",
    "   \n",
    "# et = np.array([1,1,1,1,1,1])\n",
    "    \n",
    "# p = 0.85*h_edited + 0.15*(np.dot(et,a))\n",
    "\n",
    "# print(p)"
   ]
  },
  {
   "cell_type": "code",
   "execution_count": 102,
   "id": "244d4193",
   "metadata": {},
   "outputs": [
    {
     "name": "stdout",
     "output_type": "stream",
     "text": [
      "18\n",
      "[[0.30402138]\n",
      " [0.16360304]\n",
      " [0.18979616]\n",
      " [0.04661906]\n",
      " [0.27531309]\n",
      " [0.02064727]]\n"
     ]
    }
   ],
   "source": [
    "# Calculating Influence Vector: Method 2\n",
    "\n",
    "inf_vec = np.array([0,0,0,0,0,0]) # Creating influence vector of shape (1,6), where all elements = 0\n",
    "pi_initial = initial_vector\n",
    "cond = 1 # Providing initial condition to enter while loop\n",
    "count = 0 # count variable used to count the number of iterations\n",
    "while cond >= 0.00001:\n",
    "    inf_vec = 0.85*np.dot(h,pi_initial) + np.dot(a,[0.85*np.dot(d,pi_initial)+0.15])\n",
    "    arr = np.subtract(inf_vec,pi_initial)\n",
    "    cond = np.linalg.norm(arr, ord=1)\n",
    "    pi_initial=inf_vec\n",
    "    count+=1\n",
    "print(count)\n",
    "print(inf_vec)"
   ]
  },
  {
   "cell_type": "markdown",
   "id": "a53b00fb",
   "metadata": {},
   "source": [
    "1.6 Calculating Eigenfactor (EFi)"
   ]
  },
  {
   "cell_type": "code",
   "execution_count": 103,
   "id": "14e8db2f",
   "metadata": {},
   "outputs": [
    {
     "name": "stdout",
     "output_type": "stream",
     "text": [
      "[[34.05100649]\n",
      " [17.20374224]\n",
      " [12.17545523]\n",
      " [ 3.6531636 ]\n",
      " [32.91663244]\n",
      " [ 0.        ]]\n"
     ]
    }
   ],
   "source": [
    "# Calculating Eigenfactor\n",
    "\n",
    "EF = np.dot(h, inf_vec)\n",
    "#print(EF)\n",
    "EF_sum =0\n",
    "\n",
    "# Calculation sum of EF matrix elements for normalization\n",
    "for i in range(6):\n",
    "    EF_sum = EF_sum + EF[i]\n",
    "#print(EF_sum)\n",
    "\n",
    "# Normalizing EF matrix and multiplying by 100\n",
    "EF = (EF/EF_sum)*100\n",
    "\n",
    "print(EF)"
   ]
  },
  {
   "cell_type": "markdown",
   "id": "50eb97b5",
   "metadata": {},
   "source": [
    "Part 2: Trying Page Rank Algorithm on actual data"
   ]
  },
  {
   "cell_type": "code",
   "execution_count": 104,
   "id": "7ef64114",
   "metadata": {},
   "outputs": [
    {
     "name": "stdout",
     "output_type": "stream",
     "text": [
      "   Journal1  Journal2  Citations\n",
      "0       758      1476          5\n",
      "1       758       758        150\n",
      "2       758      5938          3\n",
      "3       758      4972         13\n",
      "4       758      2416          0\n",
      "5       758      7067          1\n",
      "6       758      4543          0\n",
      "7       758      2722          1\n",
      "8       758      2249          1\n",
      "9       758      7531          1\n"
     ]
    }
   ],
   "source": [
    "# Calculating start time to evaluate time taken to run program\n",
    "import time\n",
    "start = time.time()\n",
    "\n",
    "# Load data from the file \n",
    "file = pd.read_csv(\"links.txt\", sep=',', names=['Journal1', 'Journal2', 'Citations'])\n",
    "print(file.head(10))\n",
    "\n"
   ]
  },
  {
   "cell_type": "markdown",
   "id": "35ff5f86",
   "metadata": {},
   "source": [
    "1.2 Creating an Adjacency Matrix (Z) "
   ]
  },
  {
   "cell_type": "code",
   "execution_count": 105,
   "id": "28ce9524",
   "metadata": {},
   "outputs": [],
   "source": [
    "n=10748\n",
    "adjacency_matrix = np.zeros((n,n))\n",
    "\n",
    "#Iterating over each row and inserting citation value in corresponding journal pair\n",
    "for index, row in file.iterrows():\n",
    "    i=int(row['Journal1'])\n",
    "    j=int(row['Journal2'])\n",
    "    adjacency_matrix[j][i] = row['Citations']\n",
    "        \n",
    "#print(adjacency_matrix.shape())"
   ]
  },
  {
   "cell_type": "markdown",
   "id": "aa59d96d",
   "metadata": {},
   "source": [
    "1.3 Modifying the Adjacency Matrix"
   ]
  },
  {
   "cell_type": "markdown",
   "id": "0b7ab57d",
   "metadata": {},
   "source": [
    "Set diagonals to zero"
   ]
  },
  {
   "cell_type": "code",
   "execution_count": 106,
   "id": "bebe4a54",
   "metadata": {},
   "outputs": [],
   "source": [
    "np.fill_diagonal(adjacency_matrix, 0)"
   ]
  },
  {
   "cell_type": "code",
   "execution_count": 107,
   "id": "ded3fd4c",
   "metadata": {},
   "outputs": [
    {
     "name": "stdout",
     "output_type": "stream",
     "text": [
      "[[0. 0. 0. ... 0. 0. 0.]\n",
      " [0. 0. 0. ... 0. 0. 0.]\n",
      " [0. 0. 0. ... 0. 0. 0.]\n",
      " ...\n",
      " [0. 0. 0. ... 0. 0. 0.]\n",
      " [0. 0. 0. ... 0. 0. 0.]\n",
      " [0. 0. 0. ... 0. 0. 0.]]\n"
     ]
    }
   ],
   "source": [
    "print(adjacency_matrix)"
   ]
  },
  {
   "cell_type": "markdown",
   "id": "bb747379",
   "metadata": {},
   "source": [
    "Normalize the columns"
   ]
  },
  {
   "cell_type": "code",
   "execution_count": 108,
   "id": "3125939f",
   "metadata": {},
   "outputs": [],
   "source": [
    "# Creating a matrix which stores the sum of each column\n",
    "matrix_hsum = [0] * n\n",
    "for i in range(n):\n",
    "    for j in range(n):\n",
    "        matrix_hsum[j] = matrix_hsum[j] + adjacency_matrix[i][j]\n",
    "#print(matrix_hsum)"
   ]
  },
  {
   "cell_type": "code",
   "execution_count": 109,
   "id": "16eb7730",
   "metadata": {},
   "outputs": [
    {
     "name": "stdout",
     "output_type": "stream",
     "text": [
      "[[0. 0. 0. ... 0. 0. 0.]\n",
      " [0. 0. 0. ... 0. 0. 0.]\n",
      " [0. 0. 0. ... 0. 0. 0.]\n",
      " ...\n",
      " [0. 0. 0. ... 0. 0. 0.]\n",
      " [0. 0. 0. ... 0. 0. 0.]\n",
      " [0. 0. 0. ... 0. 0. 0.]]\n"
     ]
    }
   ],
   "source": [
    "# Normalizing each column\n",
    "matrix_h = np.zeros((n,n))\n",
    "for i in range(n):\n",
    "    for j in range(n):\n",
    "        if matrix_hsum[i] != 0:\n",
    "            matrix_h[j][i] = adjacency_matrix[j][i]/matrix_hsum[i]\n",
    "print(matrix_h)"
   ]
  },
  {
   "cell_type": "markdown",
   "id": "382857d5",
   "metadata": {},
   "source": [
    "1.4 Identifying the Dangling Nodes"
   ]
  },
  {
   "cell_type": "code",
   "execution_count": 110,
   "id": "12b27e05",
   "metadata": {},
   "outputs": [
    {
     "name": "stdout",
     "output_type": "stream",
     "text": [
      "[0. 0. 0. ... 0. 0. 0.]\n",
      "(10748,)\n"
     ]
    }
   ],
   "source": [
    "# If all elements in a column are zero, then corresponding value in dangling node will be 1 \n",
    "dangling_node = np.zeros((n))\n",
    "for i in range(n):\n",
    "    count = 0\n",
    "    for j in range(n):\n",
    "        if matrix_h[j][i]==0:\n",
    "            count+=1\n",
    "    if count == n:\n",
    "        dangling_node[i] = 1\n",
    "print(dangling_node)\n",
    "print(dangling_node.shape)"
   ]
  },
  {
   "cell_type": "markdown",
   "id": "ba8a2170",
   "metadata": {},
   "source": [
    "1.5 Calculating the Influence Vector"
   ]
  },
  {
   "cell_type": "code",
   "execution_count": 111,
   "id": "6348b19e",
   "metadata": {},
   "outputs": [
    {
     "name": "stdout",
     "output_type": "stream",
     "text": [
      "[[9.30405657e-05]\n",
      " [9.30405657e-05]\n",
      " [9.30405657e-05]\n",
      " ...\n",
      " [9.30405657e-05]\n",
      " [9.30405657e-05]\n",
      " [9.30405657e-05]]\n",
      "(10748, 1)\n"
     ]
    }
   ],
   "source": [
    "# Creating Article Vector\n",
    "article_matrix = np.full((1, n), 1)\n",
    "article_matrix=article_matrix.T\n",
    "\n",
    "# Normalizing Article Vector\n",
    "article_matrix_sum = 0\n",
    "\n",
    "for i in range(n):\n",
    "    article_matrix_sum = article_matrix_sum + article_matrix[i][0]\n",
    "article_matrix = article_matrix/article_matrix_sum\n",
    "print(article_matrix)\n",
    "print(article_matrix.shape)"
   ]
  },
  {
   "cell_type": "code",
   "execution_count": 112,
   "id": "ee602d92",
   "metadata": {},
   "outputs": [
    {
     "name": "stdout",
     "output_type": "stream",
     "text": [
      "[[9.30405657e-05]\n",
      " [9.30405657e-05]\n",
      " [9.30405657e-05]\n",
      " ...\n",
      " [9.30405657e-05]\n",
      " [9.30405657e-05]\n",
      " [9.30405657e-05]]\n",
      "(10748, 1)\n"
     ]
    }
   ],
   "source": [
    "# Creating initial vector\n",
    "initial_vector_matrix = np.full((n, 1), 1/n) # Creating initial vector of shape (n,1), where all elements = 1/n\n",
    "print(initial_vector_matrix)\n",
    "print(initial_vector_matrix.shape)"
   ]
  },
  {
   "cell_type": "code",
   "execution_count": 113,
   "id": "81e31266",
   "metadata": {},
   "outputs": [
    {
     "name": "stdout",
     "output_type": "stream",
     "text": [
      "1\n",
      "32\n",
      "[[4.38729652e-05]\n",
      " [2.74427015e-05]\n",
      " [1.47081207e-04]\n",
      " ...\n",
      " [4.08557473e-05]\n",
      " [1.56821263e-05]\n",
      " [3.67818515e-05]]\n"
     ]
    }
   ],
   "source": [
    "# Calculating Influence Vector\n",
    "\n",
    "influence_vector = np.full((1, n), 0) # Creating influence vector of shape (1,n), where all elements = 0\n",
    "pi_initial_matrix = initial_vector_matrix \n",
    "condition = 1 # Providing initial condition to enter while loop\n",
    "print(condition)\n",
    "c = 0 # c variable used to count the number of iterations\n",
    "\n",
    "while condition >= 0.00001:\n",
    "    influence_vector = 0.85*np.dot(matrix_h,pi_initial_matrix) + np.dot(article_matrix,[0.85*np.dot(dangling_node,pi_initial_matrix)+0.15])\n",
    "    array_temp = np.subtract(influence_vector,pi_initial_matrix)\n",
    "    condition = np.linalg.norm(array_temp, ord=1)\n",
    "    pi_initial_matrix=influence_vector\n",
    "    c+=1\n",
    "    \n",
    "print(c)\n",
    "print(influence_vector)"
   ]
  },
  {
   "cell_type": "markdown",
   "id": "b514d221",
   "metadata": {},
   "source": [
    "1.6 Calculating Eigenfactor (EFi)"
   ]
  },
  {
   "cell_type": "code",
   "execution_count": 114,
   "id": "a2158b7f",
   "metadata": {},
   "outputs": [
    {
     "name": "stdout",
     "output_type": "stream",
     "text": [
      "[[0.00346107]\n",
      " [0.00150851]\n",
      " [0.0157262 ]\n",
      " ...\n",
      " [0.00310253]\n",
      " [0.00011092]\n",
      " [0.00261838]]\n"
     ]
    }
   ],
   "source": [
    "# Calculating Eigenfactor\n",
    "\n",
    "Eigenfactor = np.dot(matrix_h, influence_vector)\n",
    "Eigenfactor_sum =0\n",
    "\n",
    "# Calculation sum of EF matrix elements for normalization\n",
    "for i in range(n):\n",
    "    Eigenfactor_sum = Eigenfactor_sum + Eigenfactor[i]\n",
    "\n",
    "# Normalizing EF matrix and multiplying by 100\n",
    "Eigenfactor = (Eigenfactor/Eigenfactor_sum)*100\n",
    "\n",
    "print(Eigenfactor)"
   ]
  },
  {
   "cell_type": "code",
   "execution_count": 115,
   "id": "14a4ed88",
   "metadata": {},
   "outputs": [],
   "source": [
    "# Calculating end time to evaluate time taken to run program\n",
    "end = time.time()"
   ]
  },
  {
   "cell_type": "code",
   "execution_count": 116,
   "id": "d54e42d7",
   "metadata": {},
   "outputs": [
    {
     "name": "stdout",
     "output_type": "stream",
     "text": [
      "Scores of top 20 journals are as follows:\n",
      "[[1.44811869]\n",
      " [1.41271864]\n",
      " [1.23503457]\n",
      " [0.67950236]\n",
      " [0.66487912]\n",
      " [0.63463484]\n",
      " [0.57723297]\n",
      " [0.48081512]\n",
      " [0.47777265]\n",
      " [0.4397348 ]\n",
      " [0.42971775]\n",
      " [0.38620652]\n",
      " [0.38512026]\n",
      " [0.3795776 ]\n",
      " [0.37278901]\n",
      " [0.33030628]\n",
      " [0.3275079 ]\n",
      " [0.31927167]\n",
      " [0.31677903]\n",
      " [0.31125705]]\n"
     ]
    }
   ],
   "source": [
    "# Sorting the eigen factor array and displaying top 20 scores\n",
    "\n",
    "print(\"Scores of top 20 journals are as follows:\")\n",
    "\n",
    "Eigenfactor = Eigenfactor[Eigenfactor[:, 0].argsort()][::-1][:20]\n",
    "print(Eigenfactor)"
   ]
  },
  {
   "cell_type": "code",
   "execution_count": 117,
   "id": "a1d3f5c0",
   "metadata": {},
   "outputs": [
    {
     "data": {
      "text/plain": [
       "1.4481186906767676"
      ]
     },
     "execution_count": 117,
     "metadata": {},
     "output_type": "execute_result"
    }
   ],
   "source": [
    "np.max(Eigenfactor)"
   ]
  },
  {
   "cell_type": "code",
   "execution_count": 118,
   "id": "e2ed3600",
   "metadata": {},
   "outputs": [
    {
     "name": "stdout",
     "output_type": "stream",
     "text": [
      "Time it took to run the code on real network\n",
      "227.27468991279602\n"
     ]
    }
   ],
   "source": [
    "# Evaluating time taken for the program to run\n",
    "print(\"Time it took to run the code on real network\")\n",
    "print(end - start)"
   ]
  },
  {
   "cell_type": "code",
   "execution_count": 119,
   "id": "ff21e39e",
   "metadata": {},
   "outputs": [
    {
     "name": "stdout",
     "output_type": "stream",
     "text": [
      "Number of iterations it took to get to the answer:\n",
      "32\n"
     ]
    }
   ],
   "source": [
    "print(\"Number of iterations it took to get to the answer:\")\n",
    "print(c)"
   ]
  }
 ],
 "metadata": {
  "kernelspec": {
   "display_name": "Python 3 (ipykernel)",
   "language": "python",
   "name": "python3"
  },
  "language_info": {
   "codemirror_mode": {
    "name": "ipython",
    "version": 3
   },
   "file_extension": ".py",
   "mimetype": "text/x-python",
   "name": "python",
   "nbconvert_exporter": "python",
   "pygments_lexer": "ipython3",
   "version": "3.9.13"
  }
 },
 "nbformat": 4,
 "nbformat_minor": 5
}
